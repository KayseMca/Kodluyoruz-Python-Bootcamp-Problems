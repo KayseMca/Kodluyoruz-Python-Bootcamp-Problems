{
 "cells": [
  {
   "cell_type": "markdown",
   "metadata": {},
   "source": [
    "# Bölüm A"
   ]
  },
  {
   "cell_type": "markdown",
   "metadata": {},
   "source": [
    "İki oyunculu bir Taş-Kağıt-Makas oyunu yapalım.\n",
    "\n",
    "**İpucu:** \n",
    "\n",
    "Oyuncudan oyunlarını isteyip (`input()` kullanarak), karşılaştıralım, kazananı tebrik eden bir mesaj yazdıralım ve oyuncuların yeni bir oyuna başlamak isteyip istemediğini soralım)"
   ]
  },
  {
   "cell_type": "markdown",
   "metadata": {},
   "source": [
    "# Çözüm"
   ]
  },
  {
   "cell_type": "code",
   "execution_count": 39,
   "metadata": {},
   "outputs": [
    {
     "name": "stdout",
     "output_type": "stream",
     "text": [
      "Taş Kağıt Makas ?adadw\n",
      "Taş Kağıt Makas ?dwada\n",
      "Hatalı giriş yaptınız\n",
      "Yeni Oyuna Girmek İster misiniz e/he\n"
     ]
    }
   ],
   "source": [
    "cikacakMisiniz = \"h\"\n",
    "while cikacakMisiniz != \"e\":\n",
    "    kisi1 = input(\"Taş Kağıt Makas ?\")\n",
    "    kisi2 = input(\"Taş Kağıt Makas ?\")\n",
    "    if kisi1 == kisi2:\n",
    "        print(\"Oyun Berabere\")\n",
    "    elif kisi1 == \"Taş\":\n",
    "        if kisi2 == \"Kağıt\":\n",
    "            print(\"Tebrikler kişi2 kazandı..\")\n",
    "        else:\n",
    "            print(\"Tebrikler kişi1 Kazandı\")\n",
    "    elif kisi1 == \"Kağıt\":\n",
    "        if kisi2 == \"Makas\":\n",
    "            print(\"Tebrikler kişi2 kazandı..\")\n",
    "        else:\n",
    "            print(\"Tebrikler kişi1 Kazandı\")\n",
    "    elif kisi1 == \"Makas\":\n",
    "        if kisi2 == \"Taş\":\n",
    "            print(\"Tebrikler kişi2 kazandı..\")\n",
    "        else:\n",
    "            print(\"Tebrikler kişi1 Kazandı\")\n",
    "    else:\n",
    "        print(\"Hatalı giriş yaptınız\")\n",
    "            \n",
    "    cikacakMisiniz=input(\"Yeni Oyuna Girmek İster misiniz e/h\")\n"
   ]
  },
  {
   "cell_type": "code",
   "execution_count": 37,
   "metadata": {},
   "outputs": [],
   "source": []
  },
  {
   "cell_type": "markdown",
   "metadata": {},
   "source": [
    "# Bölüm B"
   ]
  },
  {
   "cell_type": "markdown",
   "metadata": {},
   "source": [
    "Diyelim ki bize bir değişkene kaydedilmiş bir liste vermiş olsunlar: `a = [1, 4, 9, 16, 25, 36, 49, 64, 81, 100]`. Bu listeyi alan ve içinde bu listenin yalnızca çift öğelerini içeren yeni bir liste oluşturan bir Python satırı yazın (ne kadar az satırda olursa o kadar iyidir :) )."
   ]
  },
  {
   "cell_type": "markdown",
   "metadata": {},
   "source": [
    "# Çözüm"
   ]
  },
  {
   "cell_type": "code",
   "execution_count": 40,
   "metadata": {},
   "outputs": [
    {
     "name": "stdout",
     "output_type": "stream",
     "text": [
      "[4, 16, 36, 64, 100]\n"
     ]
    }
   ],
   "source": [
    "a = [1, 4, 9, 16, 25, 36, 49, 64, 81, 100]\n",
    "cift_liste = list()\n",
    "for i in a:\n",
    "    if i % 2 == 0:\n",
    "        cift_liste.append(i)\n",
    "\n",
    "print(cift_liste)\n",
    "        "
   ]
  }
 ],
 "metadata": {
  "kernelspec": {
   "display_name": "Python 3",
   "language": "python",
   "name": "python3"
  },
  "language_info": {
   "codemirror_mode": {
    "name": "ipython",
    "version": 3
   },
   "file_extension": ".py",
   "mimetype": "text/x-python",
   "name": "python",
   "nbconvert_exporter": "python",
   "pygments_lexer": "ipython3",
   "version": "3.8.5"
  }
 },
 "nbformat": 4,
 "nbformat_minor": 4
}
